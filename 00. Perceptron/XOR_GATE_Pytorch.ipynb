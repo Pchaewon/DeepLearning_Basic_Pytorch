{
  "nbformat": 4,
  "nbformat_minor": 0,
  "metadata": {
    "colab": {
      "name": "XOR_GATE_Pytorch.ipynb",
      "provenance": [],
      "collapsed_sections": []
    },
    "kernelspec": {
      "name": "python3",
      "display_name": "Python 3"
    },
    "language_info": {
      "name": "python"
    }
  },
  "cells": [
    {
      "cell_type": "code",
      "execution_count": 12,
      "metadata": {
        "id": "syWyjTe-NvCn"
      },
      "outputs": [],
      "source": [
        "# 필요한 library\n",
        "import numpy as np\n",
        "import torch\n",
        "from torch import nn, optim"
      ]
    },
    {
      "cell_type": "code",
      "source": [
        "# 데이터 준비하기\n",
        "x = np.array([[0,0],[1,0],[0,1],[1,1]])\n",
        "y = np.array([[0],[1],[1],[1]])\n",
        "\n",
        "## data로 부터 직접 tensor 생성\n",
        "x = torch.tensor(x,  dtype=torch.float) \n",
        "y = torch.tensor(y,  dtype=torch.float)\n",
        "\n",
        "print(x)\n",
        "print(y)"
      ],
      "metadata": {
        "colab": {
          "base_uri": "https://localhost:8080/"
        },
        "id": "jSdzlnINOFvV",
        "outputId": "297c7a09-d484-42d1-c912-cba62433412b"
      },
      "execution_count": 17,
      "outputs": [
        {
          "output_type": "stream",
          "name": "stdout",
          "text": [
            "tensor([[0., 0.],\n",
            "        [1., 0.],\n",
            "        [0., 1.],\n",
            "        [1., 1.]])\n",
            "tensor([[0.],\n",
            "        [1.],\n",
            "        [1.],\n",
            "        [1.]])\n"
          ]
        }
      ]
    },
    {
      "cell_type": "code",
      "source": [
        "# 다층 퍼셉트론 구성하기\n",
        "model = nn.Sequential(\n",
        "    nn.Linear(2, 32), # hidden layer\n",
        "    nn.ReLU(),\n",
        "    nn.Linear(32,1),\n",
        "    nn.Sigmoid()\n",
        ")"
      ],
      "metadata": {
        "id": "0ji_l-Q4OWmv"
      },
      "execution_count": 18,
      "outputs": []
    },
    {
      "cell_type": "code",
      "source": [
        "# 모델 구조 보기\n",
        "print(model)"
      ],
      "metadata": {
        "colab": {
          "base_uri": "https://localhost:8080/"
        },
        "id": "5mjQKFH6QM1W",
        "outputId": "1556e5ef-6874-43cc-c22c-95c080dc05bd"
      },
      "execution_count": 19,
      "outputs": [
        {
          "output_type": "stream",
          "name": "stdout",
          "text": [
            "Sequential(\n",
            "  (0): Linear(in_features=2, out_features=32, bias=True)\n",
            "  (1): ReLU()\n",
            "  (2): Linear(in_features=32, out_features=1, bias=True)\n",
            "  (3): Sigmoid()\n",
            ")\n"
          ]
        }
      ]
    },
    {
      "cell_type": "code",
      "source": [
        "optimizer = optim.RMSprop(model.parameters(), lr=0.01)\n",
        "\n",
        "loss_fn = nn.MSELoss()\n",
        "losses = []"
      ],
      "metadata": {
        "id": "D3Aw3MjaPLPR"
      },
      "execution_count": 20,
      "outputs": []
    },
    {
      "cell_type": "code",
      "source": [
        "for epoch in range(100):\n",
        "  optimizer.zero_grad()\n",
        "  y_pred = model(x)\n",
        "  loss = loss_fn(y_pred.view_as(y),y)\n",
        "  loss.backward()\n",
        "  optimizer.step()\n",
        "  losses.append(loss.item())\n",
        "  print(loss)\n",
        "\n",
        "y_pred = model(x)\n",
        "print(y_pred)"
      ],
      "metadata": {
        "colab": {
          "base_uri": "https://localhost:8080/"
        },
        "id": "PBxfDlruPe8z",
        "outputId": "07561d1a-9b78-4bc9-92b7-9ff9d5c57813"
      },
      "execution_count": 24,
      "outputs": [
        {
          "output_type": "stream",
          "name": "stdout",
          "text": [
            "tensor(4.9921e-05, grad_fn=<MseLossBackward0>)\n",
            "tensor(4.9545e-05, grad_fn=<MseLossBackward0>)\n",
            "tensor(4.9152e-05, grad_fn=<MseLossBackward0>)\n",
            "tensor(4.8789e-05, grad_fn=<MseLossBackward0>)\n",
            "tensor(4.8422e-05, grad_fn=<MseLossBackward0>)\n",
            "tensor(4.8058e-05, grad_fn=<MseLossBackward0>)\n",
            "tensor(4.7681e-05, grad_fn=<MseLossBackward0>)\n",
            "tensor(4.7345e-05, grad_fn=<MseLossBackward0>)\n",
            "tensor(4.6973e-05, grad_fn=<MseLossBackward0>)\n",
            "tensor(4.6621e-05, grad_fn=<MseLossBackward0>)\n",
            "tensor(4.6265e-05, grad_fn=<MseLossBackward0>)\n",
            "tensor(4.5936e-05, grad_fn=<MseLossBackward0>)\n",
            "tensor(4.5576e-05, grad_fn=<MseLossBackward0>)\n",
            "tensor(4.5235e-05, grad_fn=<MseLossBackward0>)\n",
            "tensor(4.4907e-05, grad_fn=<MseLossBackward0>)\n",
            "tensor(4.4572e-05, grad_fn=<MseLossBackward0>)\n",
            "tensor(4.4236e-05, grad_fn=<MseLossBackward0>)\n",
            "tensor(4.3911e-05, grad_fn=<MseLossBackward0>)\n",
            "tensor(4.3580e-05, grad_fn=<MseLossBackward0>)\n",
            "tensor(4.3257e-05, grad_fn=<MseLossBackward0>)\n",
            "tensor(4.2944e-05, grad_fn=<MseLossBackward0>)\n",
            "tensor(4.2622e-05, grad_fn=<MseLossBackward0>)\n",
            "tensor(4.2307e-05, grad_fn=<MseLossBackward0>)\n",
            "tensor(4.1999e-05, grad_fn=<MseLossBackward0>)\n",
            "tensor(4.1705e-05, grad_fn=<MseLossBackward0>)\n",
            "tensor(4.1380e-05, grad_fn=<MseLossBackward0>)\n",
            "tensor(4.1075e-05, grad_fn=<MseLossBackward0>)\n",
            "tensor(4.0781e-05, grad_fn=<MseLossBackward0>)\n",
            "tensor(4.0493e-05, grad_fn=<MseLossBackward0>)\n",
            "tensor(4.0180e-05, grad_fn=<MseLossBackward0>)\n",
            "tensor(3.9895e-05, grad_fn=<MseLossBackward0>)\n",
            "tensor(3.9612e-05, grad_fn=<MseLossBackward0>)\n",
            "tensor(3.9315e-05, grad_fn=<MseLossBackward0>)\n",
            "tensor(3.9032e-05, grad_fn=<MseLossBackward0>)\n",
            "tensor(3.8751e-05, grad_fn=<MseLossBackward0>)\n",
            "tensor(3.8468e-05, grad_fn=<MseLossBackward0>)\n",
            "tensor(3.8190e-05, grad_fn=<MseLossBackward0>)\n",
            "tensor(3.7919e-05, grad_fn=<MseLossBackward0>)\n",
            "tensor(3.7640e-05, grad_fn=<MseLossBackward0>)\n",
            "tensor(3.7374e-05, grad_fn=<MseLossBackward0>)\n",
            "tensor(3.7100e-05, grad_fn=<MseLossBackward0>)\n",
            "tensor(3.6840e-05, grad_fn=<MseLossBackward0>)\n",
            "tensor(3.6573e-05, grad_fn=<MseLossBackward0>)\n",
            "tensor(3.6308e-05, grad_fn=<MseLossBackward0>)\n",
            "tensor(3.6053e-05, grad_fn=<MseLossBackward0>)\n",
            "tensor(3.5790e-05, grad_fn=<MseLossBackward0>)\n",
            "tensor(3.5536e-05, grad_fn=<MseLossBackward0>)\n",
            "tensor(3.5292e-05, grad_fn=<MseLossBackward0>)\n",
            "tensor(3.5035e-05, grad_fn=<MseLossBackward0>)\n",
            "tensor(3.4780e-05, grad_fn=<MseLossBackward0>)\n",
            "tensor(3.4544e-05, grad_fn=<MseLossBackward0>)\n",
            "tensor(3.4302e-05, grad_fn=<MseLossBackward0>)\n",
            "tensor(3.4047e-05, grad_fn=<MseLossBackward0>)\n",
            "tensor(3.3810e-05, grad_fn=<MseLossBackward0>)\n",
            "tensor(3.3578e-05, grad_fn=<MseLossBackward0>)\n",
            "tensor(3.3336e-05, grad_fn=<MseLossBackward0>)\n",
            "tensor(3.3097e-05, grad_fn=<MseLossBackward0>)\n",
            "tensor(3.2871e-05, grad_fn=<MseLossBackward0>)\n",
            "tensor(3.2641e-05, grad_fn=<MseLossBackward0>)\n",
            "tensor(3.2408e-05, grad_fn=<MseLossBackward0>)\n",
            "tensor(3.2181e-05, grad_fn=<MseLossBackward0>)\n",
            "tensor(3.1959e-05, grad_fn=<MseLossBackward0>)\n",
            "tensor(3.1730e-05, grad_fn=<MseLossBackward0>)\n",
            "tensor(3.1508e-05, grad_fn=<MseLossBackward0>)\n",
            "tensor(3.1298e-05, grad_fn=<MseLossBackward0>)\n",
            "tensor(3.1072e-05, grad_fn=<MseLossBackward0>)\n",
            "tensor(3.0856e-05, grad_fn=<MseLossBackward0>)\n",
            "tensor(3.0645e-05, grad_fn=<MseLossBackward0>)\n",
            "tensor(3.0429e-05, grad_fn=<MseLossBackward0>)\n",
            "tensor(3.0219e-05, grad_fn=<MseLossBackward0>)\n",
            "tensor(3.0010e-05, grad_fn=<MseLossBackward0>)\n",
            "tensor(2.9801e-05, grad_fn=<MseLossBackward0>)\n",
            "tensor(2.9593e-05, grad_fn=<MseLossBackward0>)\n",
            "tensor(2.9391e-05, grad_fn=<MseLossBackward0>)\n",
            "tensor(2.9197e-05, grad_fn=<MseLossBackward0>)\n",
            "tensor(2.8983e-05, grad_fn=<MseLossBackward0>)\n",
            "tensor(2.8786e-05, grad_fn=<MseLossBackward0>)\n",
            "tensor(2.8594e-05, grad_fn=<MseLossBackward0>)\n",
            "tensor(2.8401e-05, grad_fn=<MseLossBackward0>)\n",
            "tensor(2.8193e-05, grad_fn=<MseLossBackward0>)\n",
            "tensor(2.8005e-05, grad_fn=<MseLossBackward0>)\n",
            "tensor(2.7815e-05, grad_fn=<MseLossBackward0>)\n",
            "tensor(2.7625e-05, grad_fn=<MseLossBackward0>)\n",
            "tensor(2.7434e-05, grad_fn=<MseLossBackward0>)\n",
            "tensor(2.7250e-05, grad_fn=<MseLossBackward0>)\n",
            "tensor(2.7062e-05, grad_fn=<MseLossBackward0>)\n",
            "tensor(2.6877e-05, grad_fn=<MseLossBackward0>)\n",
            "tensor(2.6698e-05, grad_fn=<MseLossBackward0>)\n",
            "tensor(2.6510e-05, grad_fn=<MseLossBackward0>)\n",
            "tensor(2.6333e-05, grad_fn=<MseLossBackward0>)\n",
            "tensor(2.6153e-05, grad_fn=<MseLossBackward0>)\n",
            "tensor(2.5984e-05, grad_fn=<MseLossBackward0>)\n",
            "tensor(2.5797e-05, grad_fn=<MseLossBackward0>)\n",
            "tensor(2.5629e-05, grad_fn=<MseLossBackward0>)\n",
            "tensor(2.5456e-05, grad_fn=<MseLossBackward0>)\n",
            "tensor(2.5283e-05, grad_fn=<MseLossBackward0>)\n",
            "tensor(2.5108e-05, grad_fn=<MseLossBackward0>)\n",
            "tensor(2.4952e-05, grad_fn=<MseLossBackward0>)\n",
            "tensor(2.4773e-05, grad_fn=<MseLossBackward0>)\n",
            "tensor(2.4606e-05, grad_fn=<MseLossBackward0>)\n",
            "tensor([[0.0074],\n",
            "        [0.9959],\n",
            "        [0.9949],\n",
            "        [1.0000]], grad_fn=<SigmoidBackward0>)\n"
          ]
        }
      ]
    },
    {
      "cell_type": "code",
      "source": [
        "pip install torchmetrics"
      ],
      "metadata": {
        "colab": {
          "base_uri": "https://localhost:8080/"
        },
        "id": "KnGuwUImSGoJ",
        "outputId": "9abf8e07-420c-43f0-943b-0ad1226a89b1"
      },
      "execution_count": 26,
      "outputs": [
        {
          "output_type": "stream",
          "name": "stdout",
          "text": [
            "Looking in indexes: https://pypi.org/simple, https://us-python.pkg.dev/colab-wheels/public/simple/\n",
            "Collecting torchmetrics\n",
            "  Downloading torchmetrics-0.9.2-py3-none-any.whl (419 kB)\n",
            "\u001b[K     |████████████████████████████████| 419 kB 25.7 MB/s \n",
            "\u001b[?25hRequirement already satisfied: torch>=1.3.1 in /usr/local/lib/python3.7/dist-packages (from torchmetrics) (1.11.0+cu113)\n",
            "Requirement already satisfied: typing-extensions in /usr/local/lib/python3.7/dist-packages (from torchmetrics) (4.1.1)\n",
            "Requirement already satisfied: packaging in /usr/local/lib/python3.7/dist-packages (from torchmetrics) (21.3)\n",
            "Requirement already satisfied: numpy>=1.17.2 in /usr/local/lib/python3.7/dist-packages (from torchmetrics) (1.21.6)\n",
            "Requirement already satisfied: pyparsing!=3.0.5,>=2.0.2 in /usr/local/lib/python3.7/dist-packages (from packaging->torchmetrics) (3.0.9)\n",
            "Installing collected packages: torchmetrics\n",
            "Successfully installed torchmetrics-0.9.2\n"
          ]
        }
      ]
    },
    {
      "cell_type": "code",
      "source": [
        "from torchmetrics import Accuracy\n",
        "acc = Accuracy()\n",
        "y = np.array([[0],[1],[1],[1]])\n",
        "y = torch.tensor(x,  dtype=torch.int) \n",
        "acc(x, y)"
      ],
      "metadata": {
        "colab": {
          "base_uri": "https://localhost:8080/"
        },
        "id": "jE2uhkJbRF9R",
        "outputId": "a36290e0-1b8a-41f6-d9e8-bde218846418"
      },
      "execution_count": 29,
      "outputs": [
        {
          "output_type": "stream",
          "name": "stderr",
          "text": [
            "/usr/local/lib/python3.7/dist-packages/ipykernel_launcher.py:5: UserWarning: To copy construct from a tensor, it is recommended to use sourceTensor.clone().detach() or sourceTensor.clone().detach().requires_grad_(True), rather than torch.tensor(sourceTensor).\n",
            "  \"\"\"\n"
          ]
        },
        {
          "output_type": "execute_result",
          "data": {
            "text/plain": [
              "tensor(1.)"
            ]
          },
          "metadata": {},
          "execution_count": 29
        }
      ]
    }
  ]
}