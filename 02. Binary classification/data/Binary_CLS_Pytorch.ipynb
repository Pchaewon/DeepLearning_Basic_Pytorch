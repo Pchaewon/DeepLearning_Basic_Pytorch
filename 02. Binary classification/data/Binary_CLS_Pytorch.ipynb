{
  "nbformat": 4,
  "nbformat_minor": 0,
  "metadata": {
    "colab": {
      "name": "Binary_CLS_Pytorch.ipynb",
      "provenance": [],
      "collapsed_sections": []
    },
    "kernelspec": {
      "name": "python3",
      "display_name": "Python 3"
    },
    "language_info": {
      "name": "python"
    }
  },
  "cells": [
    {
      "cell_type": "markdown",
      "source": [
        "### 1. 라이브러리 불러오기"
      ],
      "metadata": {
        "id": "o7nolrHUEAf6"
      }
    },
    {
      "cell_type": "code",
      "execution_count": 1,
      "metadata": {
        "id": "1KwiaLl-Dq_j"
      },
      "outputs": [],
      "source": [
        "import numpy as np\n",
        "import torch\n",
        "from torch import nn, optim\n",
        "import pandas as pd"
      ]
    },
    {
      "cell_type": "markdown",
      "source": [
        "### 2. 데이터 준비하기"
      ],
      "metadata": {
        "id": "sqmNlP1BEQXR"
      }
    },
    {
      "cell_type": "code",
      "source": [
        "train = pd.read_csv('./pulsar_stars_train.csv', header=None, skiprows=1)\n",
        "test = pd.read_csv('./pulsar_stars_test.csv', header=None, skiprows=1)\n",
        "\n",
        "\n",
        "input_cnt, output_cnt = 8, 1\n",
        "train_df = np.asarray(train)\n",
        "test_df = np.asarray(test)"
      ],
      "metadata": {
        "id": "CmMnSV0OEKwl"
      },
      "execution_count": 4,
      "outputs": []
    },
    {
      "cell_type": "markdown",
      "source": [
        "### 3. 데이터 변형"
      ],
      "metadata": {
        "id": "26Z9kmMXEjYU"
      }
    },
    {
      "cell_type": "code",
      "source": [
        "train_df.astype('float')\n",
        "test_df.astype('float')\n",
        "\n",
        "train_data_len = train_df.shape[0]\n",
        "train_X = torch.tensor(train_df[:, 0:-1] , dtype=torch.float)\n",
        "train_y = torch.tensor(train_df[:, [-1]] , dtype=torch.float)\n",
        "\n",
        "test_data_len = test_df.shape[0]\n",
        "test_X = torch.tensor(test_df[:, 0:-1] , dtype=torch.float)\n",
        "test_y = torch.tensor(test_df[:, [-1]] , dtype=torch.float)"
      ],
      "metadata": {
        "id": "8-U4SNiEEiz8"
      },
      "execution_count": 5,
      "outputs": []
    },
    {
      "cell_type": "markdown",
      "source": [
        "### 4. 모델 구성"
      ],
      "metadata": {
        "id": "EgFfnogyE5dh"
      }
    },
    {
      "cell_type": "code",
      "source": [
        "model = nn.Sequential(\n",
        "  nn.Linear(input_cnt, 15),\n",
        "  nn.ReLU(),\n",
        "  nn.Linear(15, output_cnt),\n",
        "  nn.Sigmoid()\n",
        ")"
      ],
      "metadata": {
        "id": "x2FY6-HfE4vo"
      },
      "execution_count": 6,
      "outputs": []
    },
    {
      "cell_type": "markdown",
      "source": [
        "### 5. 최적화 & 오차함수 "
      ],
      "metadata": {
        "id": "PoSxbF9qFILc"
      }
    },
    {
      "cell_type": "code",
      "source": [
        "#최적화\n",
        "optimizer = optim.RMSprop(model.parameters(), lr=0.01)\n",
        "\n",
        "# 오차함수 BCE loss\n",
        "loss_fn = nn.BCELoss()\n",
        "\n",
        "# 손실 함수 로그\n",
        "losses = []"
      ],
      "metadata": {
        "id": "LaIIsrKOFBjX"
      },
      "execution_count": 7,
      "outputs": []
    },
    {
      "cell_type": "markdown",
      "source": [
        "### 6. 학습"
      ],
      "metadata": {
        "id": "gkaJCG3XFTvd"
      }
    },
    {
      "cell_type": "code",
      "source": [
        "# 20회 반복\n",
        "for epoc in range(20):\n",
        "  for idx in range(train_data_len):\n",
        "    X = train_X[idx]\n",
        "    y = train_y[idx]\n",
        "\n",
        "    # 경사 값 초기화\n",
        "    optimizer.zero_grad()\n",
        "\n",
        "    # 학습을 통한 y 예측 값을 계산\n",
        "    y_pred = model(X)\n",
        "\n",
        "    # BCE loss\n",
        "    loss = loss_fn(y_pred, y)\n",
        "\n",
        "    # 미분 계산\n",
        "    loss.backward()\n",
        "\n",
        "    # 경사 갱신\n",
        "    optimizer.step()\n",
        "\n",
        "    # 수렴 확인을 위한 loss기록\n",
        "    losses.append(loss.item())\n",
        "\n",
        "  print(loss)\n"
      ],
      "metadata": {
        "colab": {
          "base_uri": "https://localhost:8080/"
        },
        "id": "S9wc-9smFTDf",
        "outputId": "4b965117-5fc3-4a73-e594-b72c225307ba"
      },
      "execution_count": 8,
      "outputs": [
        {
          "output_type": "stream",
          "name": "stdout",
          "text": [
            "tensor(0.1581, grad_fn=<BinaryCrossEntropyBackward0>)\n",
            "tensor(0.2640, grad_fn=<BinaryCrossEntropyBackward0>)\n",
            "tensor(0.2987, grad_fn=<BinaryCrossEntropyBackward0>)\n",
            "tensor(0.2836, grad_fn=<BinaryCrossEntropyBackward0>)\n",
            "tensor(0.2979, grad_fn=<BinaryCrossEntropyBackward0>)\n",
            "tensor(0.2245, grad_fn=<BinaryCrossEntropyBackward0>)\n",
            "tensor(0.2089, grad_fn=<BinaryCrossEntropyBackward0>)\n",
            "tensor(0.1329, grad_fn=<BinaryCrossEntropyBackward0>)\n",
            "tensor(0.1277, grad_fn=<BinaryCrossEntropyBackward0>)\n",
            "tensor(0.0944, grad_fn=<BinaryCrossEntropyBackward0>)\n",
            "tensor(0.0600, grad_fn=<BinaryCrossEntropyBackward0>)\n",
            "tensor(0.0913, grad_fn=<BinaryCrossEntropyBackward0>)\n",
            "tensor(0.0898, grad_fn=<BinaryCrossEntropyBackward0>)\n",
            "tensor(0.0075, grad_fn=<BinaryCrossEntropyBackward0>)\n",
            "tensor(0.0058, grad_fn=<BinaryCrossEntropyBackward0>)\n",
            "tensor(0.0033, grad_fn=<BinaryCrossEntropyBackward0>)\n",
            "tensor(0.0314, grad_fn=<BinaryCrossEntropyBackward0>)\n",
            "tensor(0.0431, grad_fn=<BinaryCrossEntropyBackward0>)\n",
            "tensor(0.0358, grad_fn=<BinaryCrossEntropyBackward0>)\n",
            "tensor(0.0430, grad_fn=<BinaryCrossEntropyBackward0>)\n"
          ]
        }
      ]
    },
    {
      "cell_type": "markdown",
      "source": [
        "### 7. 테스트를 통한 검증"
      ],
      "metadata": {
        "id": "AgDlLwV9Foi5"
      }
    },
    {
      "cell_type": "code",
      "source": [
        "test_pred = model(test_X)\n",
        "est = np.greater(test_pred.detach().numpy(), 0.5)\n",
        "ans = np.greater(test_y.numpy(), 0.5)\n",
        "cor = np.equal(est, ans)\n",
        "print(np.mean(cor))"
      ],
      "metadata": {
        "colab": {
          "base_uri": "https://localhost:8080/"
        },
        "id": "Yb6YO2PiFsw9",
        "outputId": "fd531460-d7bc-4799-eea4-72fd7f804598"
      },
      "execution_count": 9,
      "outputs": [
        {
          "output_type": "stream",
          "name": "stdout",
          "text": [
            "0.9632244777875846\n"
          ]
        }
      ]
    }
  ]
}