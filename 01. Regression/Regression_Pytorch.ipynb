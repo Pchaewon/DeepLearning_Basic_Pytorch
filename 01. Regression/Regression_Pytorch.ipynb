{
  "nbformat": 4,
  "nbformat_minor": 0,
  "metadata": {
    "colab": {
      "name": "Regression_Pytorch.ipynb",
      "provenance": [],
      "collapsed_sections": []
    },
    "kernelspec": {
      "name": "python3",
      "display_name": "Python 3"
    },
    "language_info": {
      "name": "python"
    }
  },
  "cells": [
    {
      "cell_type": "markdown",
      "source": [
        "### 1. 라이브러리 불러오기"
      ],
      "metadata": {
        "id": "ElRavitA2u7f"
      }
    },
    {
      "cell_type": "code",
      "execution_count": null,
      "metadata": {
        "id": "Pwe1xDIV2iSc"
      },
      "outputs": [],
      "source": [
        "import numpy as np\n",
        "import torch\n",
        "from torch import nn, optim\n",
        "import pandas as pd"
      ]
    },
    {
      "cell_type": "markdown",
      "source": [
        "### 2. 데이터 준비하기"
      ],
      "metadata": {
        "id": "TjKwhNP-20Vd"
      }
    },
    {
      "cell_type": "code",
      "source": [
        "train = pd.read_csv('./abalone_train.csv', header=None, skiprows=1)\n",
        "test = pd.read_csv('./abalone_test.csv', header=None, skiprows=1)\n",
        "\n",
        "input_cnt, output_cnt= 10, 1\n",
        "train_df = np.zeros([len(train),input_cnt + output_cnt])\n",
        "test_df = np.zeros([len(test),input_cnt + output_cnt])"
      ],
      "metadata": {
        "id": "5rqCjT7T2uPl"
      },
      "execution_count": null,
      "outputs": []
    },
    {
      "cell_type": "markdown",
      "source": [
        "### 3. 원핫인코딩"
      ],
      "metadata": {
        "id": "2KAh5fba3myE"
      }
    },
    {
      "cell_type": "code",
      "source": [
        "# train data 원핫\n",
        "for index, row in train.iterrows():\n",
        "  if row[0] == 'I':\n",
        "    train_df[index, 0] = 1\n",
        "  if row[0] == 'M':\n",
        "    train_df[index, 1] = 1\n",
        "  if row[0] == 'F':\n",
        "    train_df[index, 2] = 1\n",
        "\n",
        "  train_df[:, 3:] = train.loc[:, 1:]\n",
        "\n",
        "# test data 원핫\n",
        "for index, row in test.iterrows():\n",
        "  if row[0] == 'I':\n",
        "    test_df[index, 0] = 1\n",
        "  if row[0] == 'M':\n",
        "    test_df[index, 1] = 1\n",
        "  if row[0] == 'F':\n",
        "    test_df[index, 2] = 1\n",
        "\n",
        "  test_df[:, 3:] = test.loc[:, 1:]"
      ],
      "metadata": {
        "id": "xPB4TLX83h0m"
      },
      "execution_count": null,
      "outputs": []
    },
    {
      "cell_type": "markdown",
      "source": [
        "### 4. 데이터형 변환"
      ],
      "metadata": {
        "id": "M_o7j8kn4z-k"
      }
    },
    {
      "cell_type": "code",
      "source": [
        "# float 형으로 변환\n",
        "train_df.astype('float')\n",
        "test_df.astype('float')"
      ],
      "metadata": {
        "id": "0iktR_BG458V",
        "colab": {
          "base_uri": "https://localhost:8080/"
        },
        "outputId": "fadd39e0-53bc-4c46-9e6d-e0b9321229d8"
      },
      "execution_count": null,
      "outputs": [
        {
          "output_type": "execute_result",
          "data": {
            "text/plain": [
              "array([[ 0.    ,  0.    ,  1.    , ...,  0.1905,  0.289 ,  9.    ],\n",
              "       [ 0.    ,  1.    ,  0.    , ...,  0.196 ,  0.268 ,  8.    ],\n",
              "       [ 0.    ,  1.    ,  0.    , ...,  0.2635,  0.335 , 12.    ],\n",
              "       ...,\n",
              "       [ 0.    ,  1.    ,  0.    , ...,  0.3765,  0.495 , 12.    ],\n",
              "       [ 0.    ,  0.    ,  1.    , ...,  0.242 ,  0.22  ,  9.    ],\n",
              "       [ 0.    ,  1.    ,  0.    , ...,  0.24  ,  0.255 , 10.    ]])"
            ]
          },
          "metadata": {},
          "execution_count": 8
        }
      ]
    },
    {
      "cell_type": "markdown",
      "source": [
        "### 5. 데이터 자르기 "
      ],
      "metadata": {
        "id": "iG1X9otN5Hrj"
      }
    },
    {
      "cell_type": "code",
      "source": [
        "# y : 정답 \n",
        "# train_df split\n",
        "train_df_len = train_df.shape[0]\n",
        "train_X = torch.tensor(train_df[:, 0:-1], dtype=torch.float)\n",
        "train_y = torch.tensor(train_df[:, [-1]], dtype=torch.float)\n",
        "\n",
        "# test_df split\n",
        "test_df_len = test_df.shape[0]\n",
        "test_X = torch.tensor(test_df[:, 0:-1], dtype=torch.float)\n",
        "test_y = torch.tensor(test_df[:, [-1]], dtype=torch.float)"
      ],
      "metadata": {
        "id": "a7U9R__c5OfR"
      },
      "execution_count": null,
      "outputs": []
    },
    {
      "cell_type": "markdown",
      "source": [
        "### 6. 다층 퍼셉트론 구축"
      ],
      "metadata": {
        "id": "pLE_mh4952-O"
      }
    },
    {
      "cell_type": "code",
      "source": [
        "model = nn.Sequential(\n",
        "    nn.Linear(input_cnt, 15),\n",
        "    nn.ReLU(),\n",
        "    nn.Linear(15, output_cnt)\n",
        "    )"
      ],
      "metadata": {
        "id": "VkSMItLx56Dn"
      },
      "execution_count": null,
      "outputs": []
    },
    {
      "cell_type": "markdown",
      "source": [
        "### 7. 최적화"
      ],
      "metadata": {
        "id": "CHmNmzZ-6PQk"
      }
    },
    {
      "cell_type": "code",
      "source": [
        "optimizer = optim.RMSprop(model.parameters(), lr=0.01)"
      ],
      "metadata": {
        "id": "QFe3FfuL6d35"
      },
      "execution_count": null,
      "outputs": []
    },
    {
      "cell_type": "markdown",
      "source": [
        "### 8. 손실함수"
      ],
      "metadata": {
        "id": "PptM1Aoe6t1M"
      }
    },
    {
      "cell_type": "code",
      "source": [
        "# 손실함수 정의\n",
        "loss_fn = nn.MSELoss()\n",
        "\n",
        "# 손실함수 로그\n",
        "losses = []"
      ],
      "metadata": {
        "id": "oQh7pb3i6xw8"
      },
      "execution_count": null,
      "outputs": []
    },
    {
      "cell_type": "markdown",
      "source": [
        "### 9. 학습"
      ],
      "metadata": {
        "id": "nZLcF2DN6-h7"
      }
    },
    {
      "cell_type": "code",
      "source": [
        "for epoch in range(20):\n",
        "  for idx in range(train_df_len):\n",
        "    # 데이터 불러오기\n",
        "    X = train_X[idx]\n",
        "    y = train_y[idx]\n",
        "\n",
        "    # 이전 학습의 계산된 경사 초기화\n",
        "    optimizer.zero_grad()\n",
        "\n",
        "    # 학습을 통한 예측값 계산\n",
        "    y_pred =model(X)\n",
        "\n",
        "    # 손실 함수 MSE(회귀 문제에서 주로 사용) 계산\n",
        "    loss = loss_fn(y_pred, y)\n",
        "\n",
        "    # 손실 함수로 구한 값으로 미분 계산\n",
        "    loss.backward()\n",
        "\n",
        "    # 경사 갱신(미분 갱신)\n",
        "    optimizer.step()\n",
        "\n",
        "    # loss 기록(수렴 확인용)\n",
        "    losses.append(loss.item())\n",
        "  print(loss)\n"
      ],
      "metadata": {
        "id": "nRLoH4p27BXO",
        "colab": {
          "base_uri": "https://localhost:8080/"
        },
        "outputId": "67c120c0-04ff-4025-ed5c-1944f253cf39"
      },
      "execution_count": null,
      "outputs": [
        {
          "output_type": "stream",
          "name": "stdout",
          "text": [
            "tensor(0.3735, grad_fn=<MseLossBackward0>)\n",
            "tensor(0.3183, grad_fn=<MseLossBackward0>)\n",
            "tensor(0.3040, grad_fn=<MseLossBackward0>)\n",
            "tensor(0.2437, grad_fn=<MseLossBackward0>)\n",
            "tensor(0.2807, grad_fn=<MseLossBackward0>)\n",
            "tensor(0.2339, grad_fn=<MseLossBackward0>)\n",
            "tensor(0.2456, grad_fn=<MseLossBackward0>)\n",
            "tensor(0.2750, grad_fn=<MseLossBackward0>)\n",
            "tensor(0.2597, grad_fn=<MseLossBackward0>)\n",
            "tensor(0.3418, grad_fn=<MseLossBackward0>)\n",
            "tensor(0.2385, grad_fn=<MseLossBackward0>)\n",
            "tensor(0.4525, grad_fn=<MseLossBackward0>)\n",
            "tensor(0.4464, grad_fn=<MseLossBackward0>)\n",
            "tensor(0.4186, grad_fn=<MseLossBackward0>)\n",
            "tensor(0.5398, grad_fn=<MseLossBackward0>)\n",
            "tensor(0.4921, grad_fn=<MseLossBackward0>)\n",
            "tensor(0.4038, grad_fn=<MseLossBackward0>)\n",
            "tensor(0.3525, grad_fn=<MseLossBackward0>)\n",
            "tensor(0.3538, grad_fn=<MseLossBackward0>)\n",
            "tensor(0.3565, grad_fn=<MseLossBackward0>)\n"
          ]
        }
      ]
    },
    {
      "cell_type": "markdown",
      "source": [
        "### 10. 테스트 데이터를 통한 검증\n"
      ],
      "metadata": {
        "id": "V9Mbaeqx8pf5"
      }
    },
    {
      "cell_type": "code",
      "source": [
        "# test evaluation\n",
        "test_pred = model(test_X)\n",
        "diff = np.mean(np.abs(test_pred.detach().numpy() - test_y.numpy()))\n",
        "\n",
        "# 출력\n",
        "print(diff)"
      ],
      "metadata": {
        "id": "PpKRrHBA8u0D",
        "colab": {
          "base_uri": "https://localhost:8080/"
        },
        "outputId": "c85e4c35-b75c-4387-cc48-b6e02712a1a1"
      },
      "execution_count": null,
      "outputs": [
        {
          "output_type": "stream",
          "name": "stdout",
          "text": [
            "1.4103831\n"
          ]
        }
      ]
    }
  ]
}